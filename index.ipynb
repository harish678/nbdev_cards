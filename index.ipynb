{
 "cells": [
  {
   "cell_type": "code",
   "execution_count": null,
   "metadata": {},
   "outputs": [],
   "source": [
    "#|hide\n",
    "from nbdev_cards.card import *\n",
    "from nbdev_cards.deck import *"
   ]
  },
  {
   "cell_type": "markdown",
   "metadata": {},
   "source": [
    "# nbdev_cards\n",
    "\n",
    "> Create deck of cards using nbdev"
   ]
  },
  {
   "cell_type": "markdown",
   "metadata": {},
   "source": [
    "A deck of cards demo of nbdev based on ideas from Think Python 2nd Edition by Allen B. Downey."
   ]
  },
  {
   "cell_type": "markdown",
   "metadata": {},
   "source": [
    "## Install"
   ]
  },
  {
   "cell_type": "markdown",
   "metadata": {},
   "source": [
    "`pip install nbdev-cards`"
   ]
  },
  {
   "cell_type": "markdown",
   "metadata": {},
   "source": [
    "## How to use"
   ]
  },
  {
   "cell_type": "markdown",
   "metadata": {},
   "source": [
    "This lib provides a Card class you can use to create, display, and compare playing cards:\n"
   ]
  },
  {
   "cell_type": "code",
   "execution_count": null,
   "metadata": {},
   "outputs": [
    {
     "data": {
      "text/plain": [
       "3 ♦️"
      ]
     },
     "execution_count": null,
     "metadata": {},
     "output_type": "execute_result"
    }
   ],
   "source": [
    "Card(suit=1, rank=3)"
   ]
  },
  {
   "cell_type": "markdown",
   "metadata": {},
   "source": [
    "Suits are numbered according to this list:\n"
   ]
  },
  {
   "cell_type": "code",
   "execution_count": null,
   "metadata": {},
   "outputs": [
    {
     "data": {
      "text/plain": [
       "['♣️', '♦️', '❤️', '♠️']"
      ]
     },
     "execution_count": null,
     "metadata": {},
     "output_type": "execute_result"
    }
   ],
   "source": [
    "suits"
   ]
  },
  {
   "cell_type": "markdown",
   "metadata": {},
   "source": [
    "This lib provides a Deck class you can use to create, display, shuffle, remove and draw playing cards from a deck:\n"
   ]
  },
  {
   "cell_type": "code",
   "execution_count": null,
   "metadata": {},
   "outputs": [
    {
     "data": {
      "text/plain": [
       "A ♣️; 2 ♣️; 3 ♣️; 4 ♣️; 5 ♣️; 6 ♣️; 7 ♣️; 8 ♣️; 9 ♣️; 10 ♣️; J ♣️; Q ♣️; K ♣️; A ♦️; 2 ♦️; 3 ♦️; 4 ♦️; 5 ♦️; 6 ♦️; 7 ♦️; 8 ♦️; 9 ♦️; 10 ♦️; J ♦️; Q ♦️; K ♦️; A ❤️; 2 ❤️; 3 ❤️; 4 ❤️; 5 ❤️; 6 ❤️; 7 ❤️; 8 ❤️; 9 ❤️; 10 ❤️; J ❤️; Q ❤️; K ❤️; A ♠️; 2 ♠️; 3 ♠️; 4 ♠️; 5 ♠️; 6 ♠️; 7 ♠️; 8 ♠️; 9 ♠️; 10 ♠️; J ♠️; Q ♠️; K ♠️"
      ]
     },
     "execution_count": null,
     "metadata": {},
     "output_type": "execute_result"
    }
   ],
   "source": [
    "deck = Deck()\n",
    "deck"
   ]
  },
  {
   "cell_type": "code",
   "execution_count": null,
   "metadata": {},
   "outputs": [
    {
     "data": {
      "text/plain": [
       "[9 ♣️, 3 ♦️, 7 ♠️, 7 ♦️, 8 ♣️, Q ❤️, 8 ♣️, 3 ❤️, 3 ❤️, 3 ♠️, 6 ❤️, Q ♦️, Q ♠️]"
      ]
     },
     "execution_count": null,
     "metadata": {},
     "output_type": "execute_result"
    }
   ],
   "source": [
    "draw_n(n = 13)"
   ]
  },
  {
   "cell_type": "code",
   "execution_count": null,
   "metadata": {},
   "outputs": [],
   "source": []
  }
 ],
 "metadata": {
  "kernelspec": {
   "display_name": "Python 3.9.5 ('nbdev_cards-J27EY0g0')",
   "language": "python",
   "name": "python3"
  }
 },
 "nbformat": 4,
 "nbformat_minor": 4
}
